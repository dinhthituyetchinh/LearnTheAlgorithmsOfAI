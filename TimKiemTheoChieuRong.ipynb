{
  "nbformat": 4,
  "nbformat_minor": 0,
  "metadata": {
    "colab": {
      "provenance": [],
      "authorship_tag": "ABX9TyPqeML9Do8uJzY/MMCJU2Q+",
      "include_colab_link": true
    },
    "kernelspec": {
      "name": "python3",
      "display_name": "Python 3"
    },
    "language_info": {
      "name": "python"
    }
  },
  "cells": [
    {
      "cell_type": "markdown",
      "metadata": {
        "id": "view-in-github",
        "colab_type": "text"
      },
      "source": [
        "<a href=\"https://colab.research.google.com/github/dinhthituyetchinh/LearnTheAlgorithmsOfAI/blob/main/TimKiemTheoChieuRong.ipynb\" target=\"_parent\"><img src=\"https://colab.research.google.com/assets/colab-badge.svg\" alt=\"Open In Colab\"/></a>"
      ]
    },
    {
      "cell_type": "code",
      "execution_count": 16,
      "metadata": {
        "id": "LzqxZXcVOG8p"
      },
      "outputs": [],
      "source": [
        "class Node:\n",
        "  def __init__(self, name, w = 0, parent = None): # w: Trọng số\n",
        "    self.name = name\n",
        "    self.parent = parent\n",
        "    self.w = w\n",
        "\n",
        "    # def display(self):\n",
        "    #   print(self.name, self.parent)\n",
        "    # # Dùng để so sánh trong số, nhưng trong tìm kiếm theo chiều rộng thì trọng số\n",
        "    # # là như nhau nên có thể không cần\n",
        "    # def __lt__(self, other):\n",
        "    #   return self.w < other.w\n"
      ]
    },
    {
      "cell_type": "code",
      "source": [
        "from collections import defaultdict"
      ],
      "metadata": {
        "id": "qIo7prpIQB4c"
      },
      "execution_count": 17,
      "outputs": []
    },
    {
      "cell_type": "code",
      "source": [
        "# Add dữ liệu cho từ điển\n",
        "data = defaultdict(list)\n",
        "data['A'] = ['B', 'C', 'D'] #Đỉnh A có các đỉnh con là B, C, D\n",
        "data['B'] = ['E', 'F']\n",
        "data['C'] = ['G', 'H']\n",
        "data['D'] = ['I', 'J']\n",
        "data['F'] = ['K', 'L', 'M']\n",
        "data['H'] = ['N', 'O']\n",
        "# Những đỉnh nào không có đỉnh con thì không cần lưu"
      ],
      "metadata": {
        "id": "DxVWeB9HQNMu"
      },
      "execution_count": 18,
      "outputs": []
    },
    {
      "cell_type": "code",
      "source": [
        "# Kiểm tra có trong mảng hay không\n",
        "def equal (O, G):\n",
        "  return O.name == G.name\n",
        "\n",
        "def checkInArr(t, Open):\n",
        "  for x in Open:\n",
        "    if equal(x, t):\n",
        "      return True\n",
        "    return False\n",
        "# Tìm đường đi\n",
        "def path(O):\n",
        "  print (O.name)\n",
        "  if O.parent != None:\n",
        "    path(O.parent)\n",
        "  else:\n",
        "    return\n"
      ],
      "metadata": {
        "id": "tDDNFExyRYNg"
      },
      "execution_count": 19,
      "outputs": []
    },
    {
      "cell_type": "code",
      "source": [
        "def BFS(S = Node('A'), G = Node('M')):\n",
        "  Open = []\n",
        "  Closed = []\n",
        "  Open.append(S)\n",
        "  while True:\n",
        "    if len(Open) == 0:\n",
        "      print('Tìm kiếm thất bại')\n",
        "      return\n",
        "    O = Open.pop(0) # Lấy đỉnh đầu tiên ra gán vào O\n",
        "    Closed.append(O)\n",
        "    # print(O.name)\n",
        "    if(equal(O, G)):#So sánh với đích\n",
        "      print('Tìm thấy')\n",
        "      print('Đường đi ngắn nhất tìm kiếm theo chiều rộng là:')\n",
        "      path(O)\n",
        "      return\n",
        "      # Nếu O không là đích thì ta duyệt qua các con của O\n",
        "    for x in data[O.name]:\n",
        "      temp = Node(x) #Tạo ra nút\n",
        "      temp.parent = O #Gán cha của nút temp chính là O đang xét\n",
        "      checkOpen = checkInArr(temp, Open)\n",
        "      checkClose = checkInArr(temp, Closed)\n",
        "      if not checkOpen and not checkClose:\n",
        "        Open.append(temp)\n"
      ],
      "metadata": {
        "id": "rdOc8bkqScWk"
      },
      "execution_count": 31,
      "outputs": []
    },
    {
      "cell_type": "code",
      "source": [
        "BFS(Node('A'), Node('T'))"
      ],
      "metadata": {
        "colab": {
          "base_uri": "https://localhost:8080/"
        },
        "id": "vOisKL05Wsu-",
        "outputId": "9e90800c-cf59-4feb-d618-073b78608edb"
      },
      "execution_count": 32,
      "outputs": [
        {
          "output_type": "stream",
          "name": "stdout",
          "text": [
            "Tìm kiếm thất bại\n"
          ]
        }
      ]
    },
    {
      "cell_type": "code",
      "source": [
        "BFS(Node('A'), Node('N'))"
      ],
      "metadata": {
        "colab": {
          "base_uri": "https://localhost:8080/"
        },
        "id": "J4fh2NP2YgH_",
        "outputId": "6375eef2-22f5-4145-e13b-dc71d052a2a0"
      },
      "execution_count": 33,
      "outputs": [
        {
          "output_type": "stream",
          "name": "stdout",
          "text": [
            "Tìm thấy\n",
            "Đường đi ngắn nhất tìm kiếm theo chiều rộng là:\n",
            "N\n",
            "H\n",
            "C\n",
            "A\n"
          ]
        }
      ]
    },
    {
      "cell_type": "code",
      "source": [
        "BFS()"
      ],
      "metadata": {
        "colab": {
          "base_uri": "https://localhost:8080/"
        },
        "id": "0yMOEHy1WbQq",
        "outputId": "8467ed38-302c-4e88-b4ed-5564a44fe161"
      },
      "execution_count": 27,
      "outputs": [
        {
          "output_type": "stream",
          "name": "stdout",
          "text": [
            "Tìm thấy\n",
            "Đường đi ngắn nhất tìm kiếm theo chiều rộng là:\n",
            "M\n",
            "F\n",
            "B\n",
            "A\n"
          ]
        }
      ]
    }
  ]
}