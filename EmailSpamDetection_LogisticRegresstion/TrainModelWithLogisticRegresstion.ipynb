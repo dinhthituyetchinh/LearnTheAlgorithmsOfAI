{
  "nbformat": 4,
  "nbformat_minor": 0,
  "metadata": {
    "colab": {
      "provenance": [],
      "authorship_tag": "ABX9TyPnI4u9Me2JTzxz51gct0Ak",
      "include_colab_link": true
    },
    "kernelspec": {
      "name": "python3",
      "display_name": "Python 3"
    },
    "language_info": {
      "name": "python"
    }
  },
  "cells": [
    {
      "cell_type": "markdown",
      "metadata": {
        "id": "view-in-github",
        "colab_type": "text"
      },
      "source": [
        "<a href=\"https://colab.research.google.com/github/dinhthituyetchinh/LearnTheAlgorithmsOfAI/blob/main/TrainModelWithLogisticRegresstion.ipynb\" target=\"_parent\"><img src=\"https://colab.research.google.com/assets/colab-badge.svg\" alt=\"Open In Colab\"/></a>"
      ]
    },
    {
      "cell_type": "code",
      "execution_count": 1,
      "metadata": {
        "id": "AouJpQSFgsfw",
        "colab": {
          "base_uri": "https://localhost:8080/"
        },
        "outputId": "57f38899-2254-45ce-f71d-e6bf20daa8ef"
      },
      "outputs": [
        {
          "output_type": "stream",
          "name": "stdout",
          "text": [
            "Accuracy: 0.9865470852017937\n",
            "Confusion Matrix:\n",
            "[[966   0]\n",
            " [ 15 134]]\n",
            "Classification Report:\n",
            "              precision    recall  f1-score   support\n",
            "\n",
            "         ham       0.98      1.00      0.99       966\n",
            "        spam       1.00      0.90      0.95       149\n",
            "\n",
            "    accuracy                           0.99      1115\n",
            "   macro avg       0.99      0.95      0.97      1115\n",
            "weighted avg       0.99      0.99      0.99      1115\n",
            "\n"
          ]
        }
      ],
      "source": [
        "import pandas as pd\n",
        "from sklearn.model_selection import train_test_split\n",
        "from sklearn.feature_extraction.text import CountVectorizer\n",
        "from sklearn.linear_model import LogisticRegression\n",
        "from sklearn.metrics import accuracy_score, classification_report, confusion_matrix\n",
        "\n",
        "# Đọc dữ liệu từ file CSV (đặt tên cột là 'text' cho nội dung email và 'label' cho nhãn)\n",
        "data = pd.read_csv('/content/mail_data.csv')\n",
        "\n",
        "# Tách dữ liệu thành features (X) và labels (y)\n",
        "X = data['Message']\n",
        "y = data['Category']\n",
        "\n",
        "# Chia dữ liệu thành bộ huấn luyện và bộ kiểm tra\n",
        "X_train, X_test, y_train, y_test = train_test_split(X, y, test_size=0.2, random_state=42)\n",
        "\n",
        "# Sử dụng CountVectorizer để chuyển đổi văn bản thành dạng số\n",
        "vectorizer = CountVectorizer()\n",
        "X_train_vectorized = vectorizer.fit_transform(X_train)\n",
        "X_test_vectorized = vectorizer.transform(X_test)\n",
        "\n",
        "# Huấn luyện mô hình Logistic Regression\n",
        "model = LogisticRegression()\n",
        "model.fit(X_train_vectorized, y_train)\n",
        "\n",
        "# Dự đoán nhãn trên bộ kiểm tra\n",
        "y_pred = model.predict(X_test_vectorized)\n",
        "\n",
        "# Đánh giá mô hình\n",
        "accuracy = accuracy_score(y_test, y_pred)\n",
        "conf_matrix = confusion_matrix(y_test, y_pred)\n",
        "classification_rep = classification_report(y_test, y_pred)\n",
        "\n",
        "print(f'Accuracy: {accuracy}')\n",
        "print(f'Confusion Matrix:\\n{conf_matrix}')\n",
        "print(f'Classification Report:\\n{classification_rep}')\n"
      ]
    },
    {
      "cell_type": "code",
      "source": [
        "import joblib\n",
        "\n",
        "# Lưu mô hình vào Google Drive\n",
        "joblib.dump(model, '/content/trained_model.joblib')\n"
      ],
      "metadata": {
        "colab": {
          "base_uri": "https://localhost:8080/"
        },
        "id": "c-J3YYIPFGuC",
        "outputId": "9a63e915-408c-4852-f1c9-532b3ff353a4"
      },
      "execution_count": 2,
      "outputs": [
        {
          "output_type": "execute_result",
          "data": {
            "text/plain": [
              "['/content/trained_model.joblib']"
            ]
          },
          "metadata": {},
          "execution_count": 2
        }
      ]
    },
    {
      "cell_type": "code",
      "source": [
        "import joblib\n",
        "\n",
        "# Lưu vectorizer vào Google Drive\n",
        "joblib.dump(vectorizer, '/content/vectorizer.joblib')"
      ],
      "metadata": {
        "colab": {
          "base_uri": "https://localhost:8080/"
        },
        "id": "r42BXvYDFjM_",
        "outputId": "9d5c9c40-d313-4878-ee30-0c8b7c461572"
      },
      "execution_count": 3,
      "outputs": [
        {
          "output_type": "execute_result",
          "data": {
            "text/plain": [
              "['/content/vectorizer.joblib']"
            ]
          },
          "metadata": {},
          "execution_count": 3
        }
      ]
    }
  ]
}