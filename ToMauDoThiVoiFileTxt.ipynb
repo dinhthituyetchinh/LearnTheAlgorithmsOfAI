{
  "nbformat": 4,
  "nbformat_minor": 0,
  "metadata": {
    "colab": {
      "provenance": [],
      "authorship_tag": "ABX9TyPwEOvfVmhaHJ/ttsLKbnez",
      "include_colab_link": true
    },
    "kernelspec": {
      "name": "python3",
      "display_name": "Python 3"
    },
    "language_info": {
      "name": "python"
    }
  },
  "cells": [
    {
      "cell_type": "markdown",
      "metadata": {
        "id": "view-in-github",
        "colab_type": "text"
      },
      "source": [
        "<a href=\"https://colab.research.google.com/github/dinhthituyetchinh/LearnTheAlgorithmsOfAI/blob/main/ToMauDoThiVoiFileTxt.ipynb\" target=\"_parent\"><img src=\"https://colab.research.google.com/assets/colab-badge.svg\" alt=\"Open In Colab\"/></a>"
      ]
    },
    {
      "cell_type": "code",
      "execution_count": null,
      "metadata": {
        "id": "oQnn-xFaBQ0m"
      },
      "outputs": [],
      "source": [
        "#Bài tập mẫu\n",
        "G = [[0, 1, 1, 0, 1, 0],\n",
        "     [1, 0, 1, 1, 0, 1],\n",
        "     [1, 1, 0, 1, 1, 0],\n",
        "     [0, 1, 1, 0, 0, 1],\n",
        "     [1, 0, 1, 0, 0, 1],\n",
        "     [0, 1, 0, 1, 1, 0]]"
      ]
    },
    {
      "cell_type": "code",
      "source": [
        "node = \"ABCDEF\""
      ],
      "metadata": {
        "id": "5-7-sxx0HV5T"
      },
      "execution_count": null,
      "outputs": []
    },
    {
      "cell_type": "code",
      "source": [
        "t_ = {}\n",
        "for i in range(len(G)):\n",
        "  t_[node[i]] = i"
      ],
      "metadata": {
        "id": "qrxxZGt8Hbvs"
      },
      "execution_count": null,
      "outputs": []
    },
    {
      "cell_type": "code",
      "source": [
        "degree = []\n",
        "for i in range(len(G)):\n",
        "  degree.append(sum(G[i]))"
      ],
      "metadata": {
        "id": "21STB73qISPb"
      },
      "execution_count": null,
      "outputs": []
    },
    {
      "cell_type": "code",
      "source": [
        "colorDict = {}\n",
        "for i in range(len(G)):\n",
        "  colorDict[node[i]] = [\"Blue\", \"Red\", \"Yellow\", \"Green\"]"
      ],
      "metadata": {
        "id": "FwXyFO3_Iisb"
      },
      "execution_count": null,
      "outputs": []
    },
    {
      "cell_type": "code",
      "source": [
        "sortedNode = []\n",
        "indeks = []"
      ],
      "metadata": {
        "id": "yGiVCNXEJFZT"
      },
      "execution_count": null,
      "outputs": []
    },
    {
      "cell_type": "code",
      "source": [
        "for i in range(len(degree)):\n",
        "  _max = 0\n",
        "  j = 0\n",
        "  for i in range(len(degree)):\n",
        "    if j not in indeks:\n",
        "      if degree[j] > _max:\n",
        "        _max = degree[j]\n",
        "        idx = j\n",
        "  indeks.append(idx)\n",
        "  sortedNode.append(node[idx])"
      ],
      "metadata": {
        "id": "A1kmfj9xJNUi"
      },
      "execution_count": null,
      "outputs": []
    },
    {
      "cell_type": "code",
      "source": [
        "theSolution = {}\n",
        "for n in sortedNode:\n",
        "  setTheColor = colorDict[n]\n",
        "  theSolution[n] = setTheColor[0]\n",
        "  adjacentNode = G[t_[n]]\n",
        "  for j in range(len(adjacentNode)):\n",
        "    if adjacentNode[j] == 1 and (setTheColor[0] in colorDict[node[j]]):\n",
        "      colorDict[node[j]].remove(setTheColor[0])"
      ],
      "metadata": {
        "id": "P7ecXkr6J4zq"
      },
      "execution_count": null,
      "outputs": []
    },
    {
      "cell_type": "code",
      "source": [
        "for t,w in sorted(theSolution.items()):\n",
        "  print(\"Dinh \", t, \" = \", w)"
      ],
      "metadata": {
        "colab": {
          "base_uri": "https://localhost:8080/"
        },
        "id": "-6T-aKSmLNpN",
        "outputId": "83ef0134-67f4-4fc9-e57f-0a335528e995"
      },
      "execution_count": null,
      "outputs": [
        {
          "output_type": "stream",
          "name": "stdout",
          "text": [
            "Dinh  A  =  Blue\n"
          ]
        }
      ]
    },
    {
      "cell_type": "code",
      "source": [
        "# Bài tập 1\n",
        "from google.colab import files\n",
        "uploaded = files.upload()\n",
        "for filename in uploaded.keys(): # get the name of each uploaded file\n",
        "  print(filename)\n",
        "  lines = uploaded[filename].splitlines() # split the contents into lines\n",
        "  for line in lines:  # iterate over all lines\n",
        "    print(line.decode('utf-8'))  # print the line (it needs to be decoded)"
      ],
      "metadata": {
        "colab": {
          "base_uri": "https://localhost:8080/",
          "height": 200
        },
        "id": "jkYh-oPRMCNi",
        "outputId": "a7ff30ad-8726-4413-e7ef-af94bccdb027"
      },
      "execution_count": null,
      "outputs": [
        {
          "output_type": "display_data",
          "data": {
            "text/plain": [
              "<IPython.core.display.HTML object>"
            ],
            "text/html": [
              "\n",
              "     <input type=\"file\" id=\"files-077a0266-b5b5-4096-8c08-66a9b84788cd\" name=\"files[]\" multiple disabled\n",
              "        style=\"border:none\" />\n",
              "     <output id=\"result-077a0266-b5b5-4096-8c08-66a9b84788cd\">\n",
              "      Upload widget is only available when the cell has been executed in the\n",
              "      current browser session. Please rerun this cell to enable.\n",
              "      </output>\n",
              "      <script>// Copyright 2017 Google LLC\n",
              "//\n",
              "// Licensed under the Apache License, Version 2.0 (the \"License\");\n",
              "// you may not use this file except in compliance with the License.\n",
              "// You may obtain a copy of the License at\n",
              "//\n",
              "//      http://www.apache.org/licenses/LICENSE-2.0\n",
              "//\n",
              "// Unless required by applicable law or agreed to in writing, software\n",
              "// distributed under the License is distributed on an \"AS IS\" BASIS,\n",
              "// WITHOUT WARRANTIES OR CONDITIONS OF ANY KIND, either express or implied.\n",
              "// See the License for the specific language governing permissions and\n",
              "// limitations under the License.\n",
              "\n",
              "/**\n",
              " * @fileoverview Helpers for google.colab Python module.\n",
              " */\n",
              "(function(scope) {\n",
              "function span(text, styleAttributes = {}) {\n",
              "  const element = document.createElement('span');\n",
              "  element.textContent = text;\n",
              "  for (const key of Object.keys(styleAttributes)) {\n",
              "    element.style[key] = styleAttributes[key];\n",
              "  }\n",
              "  return element;\n",
              "}\n",
              "\n",
              "// Max number of bytes which will be uploaded at a time.\n",
              "const MAX_PAYLOAD_SIZE = 100 * 1024;\n",
              "\n",
              "function _uploadFiles(inputId, outputId) {\n",
              "  const steps = uploadFilesStep(inputId, outputId);\n",
              "  const outputElement = document.getElementById(outputId);\n",
              "  // Cache steps on the outputElement to make it available for the next call\n",
              "  // to uploadFilesContinue from Python.\n",
              "  outputElement.steps = steps;\n",
              "\n",
              "  return _uploadFilesContinue(outputId);\n",
              "}\n",
              "\n",
              "// This is roughly an async generator (not supported in the browser yet),\n",
              "// where there are multiple asynchronous steps and the Python side is going\n",
              "// to poll for completion of each step.\n",
              "// This uses a Promise to block the python side on completion of each step,\n",
              "// then passes the result of the previous step as the input to the next step.\n",
              "function _uploadFilesContinue(outputId) {\n",
              "  const outputElement = document.getElementById(outputId);\n",
              "  const steps = outputElement.steps;\n",
              "\n",
              "  const next = steps.next(outputElement.lastPromiseValue);\n",
              "  return Promise.resolve(next.value.promise).then((value) => {\n",
              "    // Cache the last promise value to make it available to the next\n",
              "    // step of the generator.\n",
              "    outputElement.lastPromiseValue = value;\n",
              "    return next.value.response;\n",
              "  });\n",
              "}\n",
              "\n",
              "/**\n",
              " * Generator function which is called between each async step of the upload\n",
              " * process.\n",
              " * @param {string} inputId Element ID of the input file picker element.\n",
              " * @param {string} outputId Element ID of the output display.\n",
              " * @return {!Iterable<!Object>} Iterable of next steps.\n",
              " */\n",
              "function* uploadFilesStep(inputId, outputId) {\n",
              "  const inputElement = document.getElementById(inputId);\n",
              "  inputElement.disabled = false;\n",
              "\n",
              "  const outputElement = document.getElementById(outputId);\n",
              "  outputElement.innerHTML = '';\n",
              "\n",
              "  const pickedPromise = new Promise((resolve) => {\n",
              "    inputElement.addEventListener('change', (e) => {\n",
              "      resolve(e.target.files);\n",
              "    });\n",
              "  });\n",
              "\n",
              "  const cancel = document.createElement('button');\n",
              "  inputElement.parentElement.appendChild(cancel);\n",
              "  cancel.textContent = 'Cancel upload';\n",
              "  const cancelPromise = new Promise((resolve) => {\n",
              "    cancel.onclick = () => {\n",
              "      resolve(null);\n",
              "    };\n",
              "  });\n",
              "\n",
              "  // Wait for the user to pick the files.\n",
              "  const files = yield {\n",
              "    promise: Promise.race([pickedPromise, cancelPromise]),\n",
              "    response: {\n",
              "      action: 'starting',\n",
              "    }\n",
              "  };\n",
              "\n",
              "  cancel.remove();\n",
              "\n",
              "  // Disable the input element since further picks are not allowed.\n",
              "  inputElement.disabled = true;\n",
              "\n",
              "  if (!files) {\n",
              "    return {\n",
              "      response: {\n",
              "        action: 'complete',\n",
              "      }\n",
              "    };\n",
              "  }\n",
              "\n",
              "  for (const file of files) {\n",
              "    const li = document.createElement('li');\n",
              "    li.append(span(file.name, {fontWeight: 'bold'}));\n",
              "    li.append(span(\n",
              "        `(${file.type || 'n/a'}) - ${file.size} bytes, ` +\n",
              "        `last modified: ${\n",
              "            file.lastModifiedDate ? file.lastModifiedDate.toLocaleDateString() :\n",
              "                                    'n/a'} - `));\n",
              "    const percent = span('0% done');\n",
              "    li.appendChild(percent);\n",
              "\n",
              "    outputElement.appendChild(li);\n",
              "\n",
              "    const fileDataPromise = new Promise((resolve) => {\n",
              "      const reader = new FileReader();\n",
              "      reader.onload = (e) => {\n",
              "        resolve(e.target.result);\n",
              "      };\n",
              "      reader.readAsArrayBuffer(file);\n",
              "    });\n",
              "    // Wait for the data to be ready.\n",
              "    let fileData = yield {\n",
              "      promise: fileDataPromise,\n",
              "      response: {\n",
              "        action: 'continue',\n",
              "      }\n",
              "    };\n",
              "\n",
              "    // Use a chunked sending to avoid message size limits. See b/62115660.\n",
              "    let position = 0;\n",
              "    do {\n",
              "      const length = Math.min(fileData.byteLength - position, MAX_PAYLOAD_SIZE);\n",
              "      const chunk = new Uint8Array(fileData, position, length);\n",
              "      position += length;\n",
              "\n",
              "      const base64 = btoa(String.fromCharCode.apply(null, chunk));\n",
              "      yield {\n",
              "        response: {\n",
              "          action: 'append',\n",
              "          file: file.name,\n",
              "          data: base64,\n",
              "        },\n",
              "      };\n",
              "\n",
              "      let percentDone = fileData.byteLength === 0 ?\n",
              "          100 :\n",
              "          Math.round((position / fileData.byteLength) * 100);\n",
              "      percent.textContent = `${percentDone}% done`;\n",
              "\n",
              "    } while (position < fileData.byteLength);\n",
              "  }\n",
              "\n",
              "  // All done.\n",
              "  yield {\n",
              "    response: {\n",
              "      action: 'complete',\n",
              "    }\n",
              "  };\n",
              "}\n",
              "\n",
              "scope.google = scope.google || {};\n",
              "scope.google.colab = scope.google.colab || {};\n",
              "scope.google.colab._files = {\n",
              "  _uploadFiles,\n",
              "  _uploadFilesContinue,\n",
              "};\n",
              "})(self);\n",
              "</script> "
            ]
          },
          "metadata": {}
        },
        {
          "output_type": "stream",
          "name": "stdout",
          "text": [
            "Saving txtMaTranKe.txt to txtMaTranKe.txt\n",
            "txtMaTranKe.txt\n",
            "[[0, 1, 1, 0, 1, 0],\n",
            "[1, 0, 1, 1, 0, 1],\n",
            "[1, 1, 0, 1, 1, 0],\n",
            "[0, 1, 1, 0, 0, 1],\n",
            "[1, 0, 1, 0, 0, 1],\n",
            "[0, 1, 0, 1, 1, 0]]\n"
          ]
        }
      ]
    },
    {
      "cell_type": "code",
      "source": [
        "node = \"ABCDEF\""
      ],
      "metadata": {
        "id": "CpxmdS7zN_Q5"
      },
      "execution_count": null,
      "outputs": []
    },
    {
      "cell_type": "code",
      "source": [
        "t_ = {}\n",
        "for i in range(len(lines)):\n",
        "  t_[node[i]] = i"
      ],
      "metadata": {
        "id": "sRNoOkzyQafY"
      },
      "execution_count": null,
      "outputs": []
    },
    {
      "cell_type": "code",
      "source": [
        "degree = []\n",
        "for i in range(len(lines)):\n",
        "  degree.append(sum(lines[i]))"
      ],
      "metadata": {
        "id": "qYS-vud2QsE3"
      },
      "execution_count": null,
      "outputs": []
    },
    {
      "cell_type": "code",
      "source": [
        "colorDict = {}\n",
        "for i in range(len(lines)):\n",
        "  colorDict[node[i]] = [\"Blue\", \"Red\", \"Yellow\", \"Green\"]"
      ],
      "metadata": {
        "id": "u7f9xnBtQxre"
      },
      "execution_count": null,
      "outputs": []
    },
    {
      "cell_type": "code",
      "source": [
        "sortedNode = []\n",
        "indeks = []"
      ],
      "metadata": {
        "id": "gAa80GirQ6wo"
      },
      "execution_count": null,
      "outputs": []
    },
    {
      "cell_type": "code",
      "source": [
        "for i in range(len(degree)):\n",
        "  _max = 0\n",
        "  j = 0\n",
        "  for i in range(len(degree)):\n",
        "    if j not in indeks:\n",
        "      if degree[j] > _max:\n",
        "        _max = degree[j]\n",
        "        idx = j\n",
        "  indeks.append(idx)\n",
        "  sortedNode.append(node[idx])"
      ],
      "metadata": {
        "id": "lNx9dH4URBhv"
      },
      "execution_count": null,
      "outputs": []
    },
    {
      "cell_type": "code",
      "source": [
        "theSolution = {}\n",
        "for n in sortedNode:\n",
        "  setTheColor = colorDict[n]\n",
        "  theSolution[n] = setTheColor[0]\n",
        "  adjacentNode = lines[t_[n]]\n",
        "  for j in range(len(adjacentNode)):\n",
        "    if adjacentNode[j] == 1 and (setTheColor[0] in colorDict[node[j]]):\n",
        "      colorDict[node[j]].remove(setTheColor[0])"
      ],
      "metadata": {
        "id": "-ZK2hnxmRHt_"
      },
      "execution_count": null,
      "outputs": []
    },
    {
      "cell_type": "code",
      "source": [
        "for t,w in sorted(theSolution.items()):\n",
        "  print(\"Đỉnh \", t, \" = \", w)"
      ],
      "metadata": {
        "colab": {
          "base_uri": "https://localhost:8080/"
        },
        "id": "Trr83LgyRN0X",
        "outputId": "4f7283f4-f363-4279-ccfe-c3267d85a17c"
      },
      "execution_count": null,
      "outputs": [
        {
          "output_type": "stream",
          "name": "stdout",
          "text": [
            "Đỉnh  A  =  Blue\n"
          ]
        }
      ]
    }
  ]
}